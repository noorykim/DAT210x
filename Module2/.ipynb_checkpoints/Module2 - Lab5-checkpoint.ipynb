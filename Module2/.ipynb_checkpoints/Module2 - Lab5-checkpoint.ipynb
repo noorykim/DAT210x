{
 "cells": [
  {
   "cell_type": "markdown",
   "metadata": {},
   "source": [
    "# DAT210x - Programming with Python for DS"
   ]
  },
  {
   "cell_type": "markdown",
   "metadata": {},
   "source": [
    "## Module2 - Lab5"
   ]
  },
  {
   "cell_type": "markdown",
   "metadata": {
    "collapsed": true
   },
   "source": [
    "Import and alias Pandas:"
   ]
  },
  {
   "cell_type": "code",
   "execution_count": 9,
   "metadata": {
    "collapsed": true
   },
   "outputs": [],
   "source": [
    "import pandas as pd"
   ]
  },
  {
   "cell_type": "markdown",
   "metadata": {},
   "source": [
    "As per usual, load up the specified dataset, setting appropriate header labels."
   ]
  },
  {
   "cell_type": "code",
   "execution_count": 10,
   "metadata": {},
   "outputs": [
    {
     "name": "stdout",
     "output_type": "stream",
     "text": [
      "   education  age  capital-gain   race  capital-loss  hours-per-week     sex  \\\n",
      "0  Bachelors   39        2174.0  White             0              40    Male   \n",
      "1  Bachelors   50           NaN  White             0              13    Male   \n",
      "2    HS-grad   38           NaN  White             0              40    Male   \n",
      "3       11th   53           NaN  Black             0              40    Male   \n",
      "4  Bachelors   28           0.0  Black             0              40  Female   \n",
      "\n",
      "  classification  \n",
      "0          <=50K  \n",
      "1          <=50K  \n",
      "2          <=50K  \n",
      "3          <=50K  \n",
      "4          <=50K  \n"
     ]
    },
    {
     "data": {
      "text/plain": [
       "education          object\n",
       "age                 int64\n",
       "capital-gain      float64\n",
       "race               object\n",
       "capital-loss        int64\n",
       "hours-per-week      int64\n",
       "sex                object\n",
       "classification     object\n",
       "dtype: object"
      ]
     },
     "execution_count": 10,
     "metadata": {},
     "output_type": "execute_result"
    }
   ],
   "source": [
    "cnames = ['education', 'age', 'capital-gain', 'race', 'capital-loss', 'hours-per-week', 'sex', 'classification']\n",
    "df = pd.read_csv(\"Datasets/census.data\", header=None, names=cnames, na_values=(\"?\"))\n",
    "#df = df.replace(\"?\", \"\")\n",
    "\n",
    "# convert to numeric\n",
    "df = df.apply(pd.to_numeric, errors='ignore')\n",
    "\n",
    "#print(list(df))\n",
    "\n",
    "print(df.head())\n",
    "#print(df.tail())\n",
    "\n",
    "df.dtypes"
   ]
  },
  {
   "cell_type": "markdown",
   "metadata": {},
   "source": [
    "Excellent.\n",
    "\n",
    "Now, use basic pandas commands to look through the dataset. Get a feel for it before proceeding!\n",
    "\n",
    "Do the data-types of each column reflect the values you see when you look through the data using a text editor / spread sheet program? If you see `object` where you expect to see `int32` or `float64`, that is a good indicator that there might be a string or missing value or erroneous value in the column."
   ]
  },
  {
   "cell_type": "code",
   "execution_count": 11,
   "metadata": {
    "collapsed": true
   },
   "outputs": [],
   "source": [
    "# .. your code here .."
   ]
  },
  {
   "cell_type": "markdown",
   "metadata": {},
   "source": [
    "Try use `your_data_frame['your_column'].unique()` or equally, `your_data_frame.your_column.unique()` to see the unique values of each column and identify the rogue values.\n",
    "\n",
    "If you find any value that should be properly encoded to NaNs, you can convert them either using the `na_values` parameter when loading the dataframe. Or alternatively, use one of the other methods discussed in the reading."
   ]
  },
  {
   "cell_type": "code",
   "execution_count": 12,
   "metadata": {
    "collapsed": true
   },
   "outputs": [],
   "source": [
    "# .. your code here .."
   ]
  },
  {
   "cell_type": "markdown",
   "metadata": {},
   "source": [
    "Look through your data and identify any potential categorical features. Ensure you properly encode any ordinal and nominal types using the methods discussed in the chapter.\n",
    "\n",
    "Be careful! Some features can be represented as either categorical or continuous (numerical). If you ever get confused, think to yourself what makes more sense generally---to represent such features with a continuous numeric type... or a series of categories?"
   ]
  },
  {
   "cell_type": "code",
   "execution_count": 13,
   "metadata": {},
   "outputs": [],
   "source": [
    "df.education.unique()\n",
    "oed = ['Preschool', '1st-4th', '5th-6th', '7th-8th', '9th', '10th', '11th', '12th', 'HS-grad', 'Some-college', 'Bachelors', 'Masters', 'Doctorate']\n",
    "df['education_o'] = df.education.astype(\"category\", ordered=True, categories=oed).cat.codes\n",
    "\n",
    "ocl = ['<=50K', '>50K']\n",
    "df['classification_o'] = df.classification.astype(\"category\", ordered=True, categories=ocl).cat.codes\n",
    "\n",
    "#osex = ['Male', 'Female']\n",
    "#df['sex_o'] = df.sex.astype(\"category\", ordered=False, categories=osex).cat.codes\n",
    "\n",
    "df = pd.get_dummies(df, columns=['race', 'sex'])\n"
   ]
  },
  {
   "cell_type": "markdown",
   "metadata": {},
   "source": [
    "Lastly, print out your dataframe!"
   ]
  },
  {
   "cell_type": "code",
   "execution_count": 14,
   "metadata": {},
   "outputs": [
    {
     "name": "stdout",
     "output_type": "stream",
     "text": [
      "   education  age  capital-gain  capital-loss  hours-per-week classification  \\\n",
      "0  Bachelors   39        2174.0             0              40          <=50K   \n",
      "1  Bachelors   50           NaN             0              13          <=50K   \n",
      "2    HS-grad   38           NaN             0              40          <=50K   \n",
      "3       11th   53           NaN             0              40          <=50K   \n",
      "4  Bachelors   28           0.0             0              40          <=50K   \n",
      "\n",
      "   education_o  classification_o  sex_o  race_Amer-Indian-Eskimo  \\\n",
      "0           10                 0      0                        0   \n",
      "1           10                 0      0                        0   \n",
      "2            8                 0      0                        0   \n",
      "3            6                 0      0                        0   \n",
      "4           10                 0      1                        0   \n",
      "\n",
      "   race_Asian-Pac-Islander  race_Black  race_Other  race_White  sex_Female  \\\n",
      "0                        0           0           0           1           0   \n",
      "1                        0           0           0           1           0   \n",
      "2                        0           0           0           1           0   \n",
      "3                        0           1           0           0           0   \n",
      "4                        0           1           0           0           1   \n",
      "\n",
      "   sex_Male  \n",
      "0         1  \n",
      "1         1  \n",
      "2         1  \n",
      "3         1  \n",
      "4         0  \n"
     ]
    }
   ],
   "source": [
    "print(df.head())"
   ]
  },
  {
   "cell_type": "code",
   "execution_count": null,
   "metadata": {
    "collapsed": true
   },
   "outputs": [],
   "source": []
  }
 ],
 "metadata": {
  "anaconda-cloud": {},
  "kernelspec": {
   "display_name": "Python 3",
   "language": "python",
   "name": "python3"
  },
  "language_info": {
   "codemirror_mode": {
    "name": "ipython",
    "version": 3
   },
   "file_extension": ".py",
   "mimetype": "text/x-python",
   "name": "python",
   "nbconvert_exporter": "python",
   "pygments_lexer": "ipython3",
   "version": "3.6.2"
  },
  "toc": {
   "colors": {
    "hover_highlight": "#DAA520",
    "running_highlight": "#FF0000",
    "selected_highlight": "#FFD700"
   },
   "moveMenuLeft": true,
   "nav_menu": {
    "height": "58px",
    "width": "251px"
   },
   "navigate_menu": true,
   "number_sections": true,
   "sideBar": true,
   "threshold": 4,
   "toc_cell": false,
   "toc_section_display": "block",
   "toc_window_display": false,
   "widenNotebook": false
  }
 },
 "nbformat": 4,
 "nbformat_minor": 2
}
